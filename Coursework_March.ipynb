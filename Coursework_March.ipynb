{
 "cells": [
  {
   "cell_type": "markdown",
   "id": "f072c824-1e69-482a-abe5-370773360077",
   "metadata": {},
   "source": [
    "### Towards generic modelling of hospitals wards: Reuse and redevelopment of simple models\n",
    "\n",
    "Penn, Monks, Kazmierska & Alkoyeji, 2019"
   ]
  },
  {
   "cell_type": "markdown",
   "id": "8218fc12-2166-4e62-9feb-897b92cc8c6f",
   "metadata": {},
   "source": [
    "In Penn *et al*, 2019, empirical data was used to design and test a simulation model.  The simulation model presented here aims to replicate the model detailed in that paper.  In this case, we will use a random generator function to create the data that can be used to design and test our simulation model."
   ]
  },
  {
   "cell_type": "markdown",
   "id": "46e4d5d9-cda5-4b6c-a472-6c786b11ce1e",
   "metadata": {},
   "source": [
    "LLM Perplexity was used to create the code for generating the random data, requiring that numpy and pandas are used to provide 1000 patient samples, to include patients assigned to different 5 groups, including gender, age, medical conditions (which relates to length of stay).\n"
   ]
  },
  {
   "cell_type": "code",
   "execution_count": 2,
   "id": "886a8192-d108-4d8b-ae0d-dbb63f20629d",
   "metadata": {},
   "outputs": [
    {
     "name": "stdout",
     "output_type": "stream",
     "text": [
      "    Patient_ID    Group  Gender  Age Medical_Condition  Length_of_Stay\n",
      "0    Patient_1  Group D  Female   61             Acute               2\n",
      "1    Patient_2  Group E  Female   66           Chronic              17\n",
      "2    Patient_3  Group C  Female   78              None               2\n",
      "3    Patient_4  Group E  Female   84             Acute               9\n",
      "4    Patient_5  Group E  Female   23              None               3\n",
      "5    Patient_6  Group B    Male   26             Acute               6\n",
      "6    Patient_7  Group C  Female   23           Chronic              15\n",
      "7    Patient_8  Group C    Male   90             Acute               7\n",
      "8    Patient_9  Group C  Female   49           Chronic              12\n",
      "9   Patient_10  Group E    Male   58             Acute               5\n",
      "10  Patient_11  Group D  Female   25           Chronic              16\n",
      "11  Patient_12  Group C    Male   89           Chronic              19\n",
      "12  Patient_13  Group E  Female   67              None               1\n",
      "13  Patient_14  Group B    Male   79           Chronic              11\n",
      "14  Patient_15  Group D  Female   79              None               3\n",
      "15  Patient_16  Group B    Male   24           Chronic              18\n",
      "16  Patient_17  Group D  Female   21             Acute               7\n",
      "17  Patient_18  Group E    Male   23             Acute               3\n",
      "18  Patient_19  Group A    Male   75             Acute               2\n",
      "19  Patient_20  Group D  Female   39           Chronic               5\n",
      "20  Patient_21  Group B  Female   43           Chronic              10\n",
      "21  Patient_22  Group E    Male   20           Chronic              10\n",
      "22  Patient_23  Group D  Female   58           Chronic               9\n",
      "23  Patient_24  Group A    Male   77             Acute               9\n",
      "24  Patient_25  Group A    Male   31              None               1\n",
      "25  Patient_26  Group C    Male   29              None               1\n",
      "26  Patient_27  Group C  Female   29             Acute               2\n",
      "27  Patient_28  Group B    Male   30             Acute               3\n",
      "28  Patient_29  Group D    Male   42             Acute               5\n",
      "29  Patient_30  Group D  Female   62           Chronic               9\n",
      "30  Patient_31  Group C  Female   36              None               2\n",
      "31  Patient_32  Group D  Female   72             Acute               8\n",
      "32  Patient_33  Group D  Female   62             Acute               4\n",
      "33  Patient_34  Group A    Male   25           Chronic              17\n",
      "34  Patient_35  Group C    Male   70             Acute               8\n",
      "35  Patient_36  Group E    Male   72             Acute               5\n",
      "36  Patient_37  Group C    Male   49              None               3\n",
      "37  Patient_38  Group E  Female   68             Acute               4\n",
      "38  Patient_39  Group A    Male   61           Chronic               8\n",
      "39  Patient_40  Group B    Male   87              None               1\n",
      "40  Patient_41  Group D  Female   35           Chronic               5\n",
      "41  Patient_42  Group A    Male   39             Acute               5\n",
      "42  Patient_43  Group D    Male   54           Chronic              16\n",
      "43  Patient_44  Group B    Male   73             Acute               5\n",
      "44  Patient_45  Group B    Male   76              None               3\n",
      "45  Patient_46  Group A    Male   20           Chronic              12\n",
      "46  Patient_47  Group B    Male   45              None               2\n",
      "47  Patient_48  Group E  Female   52           Chronic              11\n",
      "48  Patient_49  Group B  Female   78              None               1\n",
      "49  Patient_50  Group D    Male   71             Acute               6\n"
     ]
    }
   ],
   "source": [
    "import numpy as np\n",
    "import pandas as pd\n",
    "\n",
    "# Set random seed for reproducibility\n",
    "np.random.seed(42)\n",
    "\n",
    "# Generate 1000 patient IDs\n",
    "patient_ids = [f\"Patient_{i}\" for i in range(1, 1001)]\n",
    "\n",
    "# Assign patients to one of 5 groups\n",
    "groups = np.random.choice(['Group A', 'Group B', 'Group C', 'Group D', 'Group E'], size=1000)\n",
    "\n",
    "# Generate random genders\n",
    "genders = np.random.choice(['Male', 'Female'], size=1000)\n",
    "\n",
    "# Generate random ages (between 18 and 90)\n",
    "ages = np.random.randint(18, 91, size=1000)\n",
    "\n",
    "# Generate medical conditions with probabilities (e.g., chronic, acute, none)\n",
    "medical_conditions = np.random.choice(['Chronic', 'Acute', 'None'], size=1000, p=[0.4, 0.4, 0.2])\n",
    "\n",
    "# Generate length of stay based on medical conditions\n",
    "length_of_stay = [\n",
    "    np.random.randint(5, 21) if condition == 'Chronic' else \n",
    "    np.random.randint(2, 10) if condition == 'Acute' else \n",
    "    np.random.randint(1, 4)\n",
    "    for condition in medical_conditions\n",
    "]\n",
    "\n",
    "# Create a DataFrame\n",
    "data = pd.DataFrame({\n",
    "    'Patient_ID': patient_ids,\n",
    "    'Group': groups,\n",
    "    'Gender': genders,\n",
    "    'Age': ages,\n",
    "    'Medical_Condition': medical_conditions,\n",
    "    'Length_of_Stay': length_of_stay\n",
    "})\n",
    "\n",
    "# Display the first few rows of the dataset\n",
    "print(data.head(50))\n",
    "\n",
    "# Save to a CSV file (optional)\n",
    "data.to_csv(\"patient_data.csv\", index=False)\n"
   ]
  },
  {
   "cell_type": "markdown",
   "id": "e84742ec-d861-4a82-9e8f-1570074810fc",
   "metadata": {},
   "source": [
    "To retrieve and save the file (optional step):"
   ]
  },
  {
   "cell_type": "code",
   "execution_count": null,
   "id": "7949d455-a69a-4b6f-a1b2-f291c91d99c2",
   "metadata": {},
   "outputs": [],
   "source": [
    "# import shutil\n",
    "# shutil.move(\"patient_data.csv\", \"/desired/path/patient_data.csv\") # amend the filepath"
   ]
  }
 ],
 "metadata": {
  "kernelspec": {
   "display_name": "Python 3 (ipykernel)",
   "language": "python",
   "name": "python3"
  },
  "language_info": {
   "codemirror_mode": {
    "name": "ipython",
    "version": 3
   },
   "file_extension": ".py",
   "mimetype": "text/x-python",
   "name": "python",
   "nbconvert_exporter": "python",
   "pygments_lexer": "ipython3",
   "version": "3.11.9"
  }
 },
 "nbformat": 4,
 "nbformat_minor": 5
}
